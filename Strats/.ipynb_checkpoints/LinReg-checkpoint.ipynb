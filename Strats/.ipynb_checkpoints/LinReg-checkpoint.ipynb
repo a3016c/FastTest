{
 "cells": [
  {
   "cell_type": "code",
   "execution_count": 1,
   "id": "ae471eba",
   "metadata": {
    "scrolled": true
   },
   "outputs": [
    {
     "ename": "ModuleNotFoundError",
     "evalue": "No module named 'wrapper'",
     "output_type": "error",
     "traceback": [
      "\u001b[0;31m---------------------------------------------------------------------------\u001b[0m",
      "\u001b[0;31mModuleNotFoundError\u001b[0m                       Traceback (most recent call last)",
      "Input \u001b[0;32mIn [1]\u001b[0m, in \u001b[0;36m<cell line: 14>\u001b[0;34m()\u001b[0m\n\u001b[1;32m     10\u001b[0m \u001b[38;5;66;03m#SCRIPT_DIR = os.path.dirname(Path(os.path.abspath('')).resolve().parent)\u001b[39;00m\n\u001b[1;32m     11\u001b[0m \u001b[38;5;66;03m#sys.path.append(os.path.dirname(SCRIPT_DIR))\u001b[39;00m\n\u001b[1;32m     13\u001b[0m \u001b[38;5;28;01mimport\u001b[39;00m \u001b[38;5;21;01mnumpy\u001b[39;00m \u001b[38;5;28;01mas\u001b[39;00m \u001b[38;5;21;01mnp\u001b[39;00m\n\u001b[0;32m---> 14\u001b[0m \u001b[38;5;28;01mfrom\u001b[39;00m \u001b[38;5;21;01mwrapper\u001b[39;00m\u001b[38;5;21;01m.\u001b[39;00m\u001b[38;5;21;01mExchange\u001b[39;00m \u001b[38;5;28;01mimport\u001b[39;00m Exchange, Asset\n\u001b[1;32m     15\u001b[0m \u001b[38;5;28;01mfrom\u001b[39;00m \u001b[38;5;21;01mBroker\u001b[39;00m \u001b[38;5;28;01mimport\u001b[39;00m Broker\n\u001b[1;32m     16\u001b[0m \u001b[38;5;28;01mfrom\u001b[39;00m \u001b[38;5;21;01mStrategy\u001b[39;00m \u001b[38;5;28;01mimport\u001b[39;00m \u001b[38;5;241m*\u001b[39m\n",
      "\u001b[0;31mModuleNotFoundError\u001b[0m: No module named 'wrapper'"
     ]
    }
   ],
   "source": [
    "%load_ext autoreload\n",
    "%autoreload 2\n",
    "\n",
    "import os \n",
    "import sys\n",
    "import zipfile\n",
    "import io\n",
    "from pathlib import Path\n",
    "\n",
    "#SCRIPT_DIR = os.path.dirname(Path(os.path.abspath('')).resolve().parent)\n",
    "#sys.path.append(os.path.dirname(SCRIPT_DIR))\n",
    "\n",
    "import numpy as np\n",
    "from wrapper.Exchange import Exchange, Asset\n",
    "from Broker import Broker\n",
    "from Strategy import *\n",
    "from FastTest import FastTest, run_jit"
   ]
  },
  {
   "cell_type": "code",
   "execution_count": 6,
   "id": "425e81e9",
   "metadata": {},
   "outputs": [
    {
     "data": {
      "text/plain": [
       "'/Users/nathantormaschy/Desktop/C++/FastTest/Strats'"
      ]
     },
     "execution_count": 6,
     "metadata": {},
     "output_type": "execute_result"
    }
   ],
   "source": [
    "os.path.abspath('')"
   ]
  },
  {
   "cell_type": "code",
   "execution_count": 3,
   "id": "9ff3fa8e",
   "metadata": {},
   "outputs": [
    {
     "data": {
      "text/plain": [
       "'/Users/nathantormaschy/Desktop/C++'"
      ]
     },
     "execution_count": 3,
     "metadata": {},
     "output_type": "execute_result"
    }
   ],
   "source": [
    "os.path.abspath(os.path.join(os.path.dirname(os.path.abspath('')), os.path.pardir))\n"
   ]
  },
  {
   "cell_type": "code",
   "execution_count": null,
   "id": "c3544274",
   "metadata": {},
   "outputs": [],
   "source": []
  }
 ],
 "metadata": {
  "kernelspec": {
   "display_name": "Python 3 (ipykernel)",
   "language": "python",
   "name": "python3"
  },
  "language_info": {
   "codemirror_mode": {
    "name": "ipython",
    "version": 3
   },
   "file_extension": ".py",
   "mimetype": "text/x-python",
   "name": "python",
   "nbconvert_exporter": "python",
   "pygments_lexer": "ipython3",
   "version": "3.9.12"
  }
 },
 "nbformat": 4,
 "nbformat_minor": 5
}
