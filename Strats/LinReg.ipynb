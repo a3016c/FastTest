{
 "cells": [
  {
   "cell_type": "code",
   "execution_count": 1,
   "id": "ae471eba",
   "metadata": {
    "scrolled": true
   },
   "outputs": [],
   "source": [
    "%load_ext autoreload\n",
    "%autoreload 2\n",
    "\n",
    "import os \n",
    "import sys\n",
    "import zipfile\n",
    "import io\n",
    "from pathlib import Path\n",
    "\n",
    "SCRIPT_DIR = os.path.join(os.path.dirname(os.path.abspath('')),\"wrapper\")\n",
    "sys.path.append(os.path.dirname(SCRIPT_DIR))\n",
    "\n",
    "import numpy as np\n",
    "import pandas as pd\n",
    "\n",
    "import matplotlib.pyplot as plt\n",
    "\n",
    "\n",
    "from wrapper.Exchange import Exchange, Asset\n",
    "from wrapper.Broker import Broker\n",
    "from wrapper.Strategy import Strategy\n",
    "from wrapper.FastTest import FastTest, run_jit"
   ]
  },
  {
   "cell_type": "code",
   "execution_count": 22,
   "id": "425e81e9",
   "metadata": {},
   "outputs": [],
   "source": [
    "file_path = \"/Users/nathantormaschy/Downloads/SPY_reg.csv\"\n",
    "\n",
    "ft = FastTest(logging = True)\n",
    "exchange = Exchange()\n",
    "ft.register_exchange(exchange)\n",
    "    \n",
    "broker = Broker(exchange, margin=True, logging=True)\n",
    "ft.register_broker(broker)\n",
    "\n",
    "df = pd.read_csv(file_path, sep=\",\")\n",
    "df[\"DATE\"] = pd.to_datetime(pd.to_datetime(df[\"DATE\"], format = \"%Y-%m-%d\"))\n",
    "df.set_index(\"DATE\",inplace=True)\n",
    "\n",
    "new_asset = Asset(exchange, asset_name=\"SPY\")\n",
    "new_asset.set_format(\"%d-%d-%d\", 0, 0)\n",
    "new_asset.load_from_df(df, nano=True)\n",
    "exchange.register_asset(new_asset)"
   ]
  },
  {
   "cell_type": "code",
   "execution_count": 23,
   "id": "bdd85eb2",
   "metadata": {},
   "outputs": [],
   "source": [
    "\n",
    "\n",
    "class Midas_Strategy(Strategy):\n",
    "    def __init__(self, broker: Broker, exchange: Exchange, lookahead) -> None:\n",
    "        super().__init__(broker, exchange)\n",
    "        self.lookahead = 5\n",
    "        self.asset_name = \"SPY\"\n",
    "        self.position_size = 90000\n",
    "        \n",
    "    def next(self):\n",
    "        predicted_returns = self.exchange.get(\"SPY\",\"LR_PREDS\")\n",
    "        \n",
    "        if not self.broker.position_exists(self.asset_name):\n",
    "            market_price = self.exchange.get_market_price(self.asset_name)\n",
    "            units = abs(self.position_size / market_price)\n",
    "            if predicted_returns < .5:\n",
    "                units *= -1\n",
    "            self.broker.place_market_order(self.asset_name, units, strategy_id=self.strategy_id)\n",
    "            return \n",
    "        \n",
    "        position = self.broker.get_position(self.asset_name)\n",
    "        \n",
    "        if predicted_returns < 0.5 and position.units < 0:\n",
    "            return\n",
    "        elif predicted_returns > 0.5 and position.units > 0:\n",
    "            return\n",
    "        elif predicted_returns < 0.5 and position.units > 0:\n",
    "            units = -1 * position.units\n",
    "            self.broker.place_market_order(self.asset_name, units, strategy_id=self.strategy_id)\n",
    "            return\n",
    "        elif predicted_returns > 0.5 and position.units < 0:\n",
    "            units = -1 * position.units\n",
    "            self.broker.place_market_order(self.asset_name, units, strategy_id=self.strategy_id)\n",
    "            return\n",
    "\n",
    "strategy = Midas_Strategy(broker, exchange, 5)\n",
    "\n",
    "ft.build()\n",
    "ft.add_strategy(strategy)\n",
    "    \n",
    "ft.run()"
   ]
  },
  {
   "cell_type": "code",
   "execution_count": 24,
   "id": "99e572a5",
   "metadata": {},
   "outputs": [
    {
     "data": {
      "text/plain": [
       "[<matplotlib.lines.Line2D at 0x7fa16420aa00>]"
      ]
     },
     "execution_count": 24,
     "metadata": {},
     "output_type": "execute_result"
    },
    {
     "data": {
      "image/png": "[encoded data removed]",
      "text/plain": [
       "<Figure size 432x288 with 1 Axes>"
      ]
     },
     "metadata": {
      "needs_background": "light"
     },
     "output_type": "display_data"
    }
   ],
   "source": [
    "plt.plot(broker.get_nlv_history())"
   ]
  },
  {
   "cell_type": "code",
   "execution_count": null,
   "id": "5685c10a",
   "metadata": {},
   "outputs": [],
   "source": []
  },
  {
   "cell_type": "code",
   "execution_count": null,
   "id": "bbb391c2",
   "metadata": {},
   "outputs": [],
   "source": []
  },
  {
   "cell_type": "code",
   "execution_count": null,
   "id": "90680a3d",
   "metadata": {},
   "outputs": [],
   "source": []
  },
  {
   "cell_type": "code",
   "execution_count": null,
   "id": "0d55df90",
   "metadata": {},
   "outputs": [],
   "source": []
  }
 ],
 "metadata": {
  "kernelspec": {
   "display_name": "Python 3 (ipykernel)",
   "language": "python",
   "name": "python3"
  },
  "language_info": {
   "codemirror_mode": {
    "name": "ipython",
    "version": 3
   },
   "file_extension": ".py",
   "mimetype": "text/x-python",
   "name": "python",
   "nbconvert_exporter": "python",
   "pygments_lexer": "ipython3",
   "version": "3.9.12"
  }
 },
 "nbformat": 4,
 "nbformat_minor": 5
}
