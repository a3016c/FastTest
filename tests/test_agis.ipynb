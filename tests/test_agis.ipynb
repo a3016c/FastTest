{
 "cells": [
  {
   "cell_type": "code",
   "execution_count": 1,
   "metadata": {},
   "outputs": [],
   "source": [
    "%load_ext autoreload\n",
    "%autoreload 2\n",
    "\n",
    "import pandas as pd\n",
    "import numpy as np\n",
    "from datetime import datetime \n",
    "import zipfile\n",
    "import matplotlib.pyplot as plt\n",
    "import seaborn as sns\n",
    "\n",
    "sns.set()\n",
    "\n",
    "import sys\n",
    "import io\n",
    "sys.path.insert(1, \"../src\")\n",
    "\n",
    "from FastTest import FastTest\n",
    "from Exchange import Exchange\n",
    "from Broker import Broker\n",
    "from Strategy import Strategy\n",
    "from Asset import Asset\n",
    "from Order import *"
   ]
  },
  {
   "cell_type": "code",
   "execution_count": 2,
   "metadata": {},
   "outputs": [],
   "source": [
    "z = zipfile.ZipFile(r\"C:\\Users\\bktor\\Downloads\\preds_test.zip\")\n",
    "_file_names = z.namelist()\n",
    "asset_names = [_file[0:-4] for _file in _file_names]"
   ]
  },
  {
   "cell_type": "code",
   "execution_count": 3,
   "metadata": {},
   "outputs": [],
   "source": [
    "exchange = Exchange()\n",
    "broker = Broker(exchange=exchange)\n",
    "\n",
    "source_type = \"zip\"\n",
    "datetime_format = \"%Y-%m-%d\"\n",
    "datetime_column = \"DATE\"\n",
    "\n",
    "for index, _file in enumerate(_file_names):\n",
    "    f = z.open(_file)\n",
    "    exchange.register_asset(Asset(\n",
    "                asset_names[index],\n",
    "                source_type = source_type,\n",
    "                fp = f,\n",
    "                datetime_format = datetime_format,\n",
    "                datetime_column = datetime_column,\n",
    "                frequency = \"1D\",\n",
    "                end_date = \"2022-02-01\"\n",
    "            )\n",
    "        )\n",
    "\n",
    "fast_test = FastTest(\n",
    "    exchange=exchange,\n",
    "    broker=broker\n",
    ")"
   ]
  },
  {
   "cell_type": "code",
   "execution_count": 4,
   "metadata": {},
   "outputs": [
    {
     "ename": "AttributeError",
     "evalue": "'FastTest' object has no attribute 'benchmark_strategy'",
     "output_type": "error",
     "traceback": [
      "\u001b[1;31m---------------------------------------------------------------------------\u001b[0m",
      "\u001b[1;31mAttributeError\u001b[0m                            Traceback (most recent call last)",
      "Cell \u001b[1;32mIn[4], line 56\u001b[0m\n\u001b[0;32m     50\u001b[0m strategy \u001b[38;5;241m=\u001b[39m AgisStrategy(\n\u001b[0;32m     51\u001b[0m             exchange\u001b[38;5;241m=\u001b[39mexchange,\n\u001b[0;32m     52\u001b[0m             broker\u001b[38;5;241m=\u001b[39mbroker\n\u001b[0;32m     53\u001b[0m         )\n\u001b[0;32m     55\u001b[0m fast_test\u001b[38;5;241m.\u001b[39mregister_strategy(strategy)\n\u001b[1;32m---> 56\u001b[0m \u001b[43mfast_test\u001b[49m\u001b[38;5;241;43m.\u001b[39;49m\u001b[43mrun\u001b[49m\u001b[43m(\u001b[49m\u001b[43m)\u001b[49m\n",
      "File \u001b[1;32mc:\\Users\\bktor\\Desktop\\Python\\FastTest\\tests\\../src\\FastTest.py:80\u001b[0m, in \u001b[0;36mFastTest.run\u001b[1;34m(self)\u001b[0m\n\u001b[0;32m     78\u001b[0m \u001b[39m#allow strategy to place orders based on current market view. Orders processed next market open\u001b[39;00m\n\u001b[0;32m     79\u001b[0m orders \u001b[39m=\u001b[39m \u001b[39mself\u001b[39m\u001b[39m.\u001b[39mstrategy\u001b[39m.\u001b[39mnext()\n\u001b[1;32m---> 80\u001b[0m orders_benchmark \u001b[39m=\u001b[39m \u001b[39mself\u001b[39;49m\u001b[39m.\u001b[39;49mbenchmark_strategy\u001b[39m.\u001b[39mnext()\n\u001b[0;32m     82\u001b[0m \u001b[39m#place the orders to the broker who routes them to the exchange\u001b[39;00m\n\u001b[0;32m     83\u001b[0m \u001b[39mself\u001b[39m\u001b[39m.\u001b[39mbroker\u001b[39m.\u001b[39mplace_orders(orders)\n",
      "\u001b[1;31mAttributeError\u001b[0m: 'FastTest' object has no attribute 'benchmark_strategy'"
     ]
    }
   ],
   "source": [
    "class AgisStrategy(Strategy):\n",
    "    def __init__(self, exchange: Exchange, broker: Broker) -> None:\n",
    "        super().__init__(exchange, broker)\n",
    "        self.holding_times = {}\n",
    "        self.lookahead = 20\n",
    "        self.position_size = 4000\n",
    "\n",
    "    def check_sale(self, close_all = False):\n",
    "        orders = []\n",
    "        for asset_name in list(self.holding_times.keys()):\n",
    "            self.holding_times[asset_name] += 1\n",
    "            if self.holding_times[asset_name] == self.lookahead or close_all:\n",
    "                try:\n",
    "                    orders.append(\n",
    "                        MarketOrder(\n",
    "                        order_create_time = self.exchange.market_time,\n",
    "                        asset_name = asset_name,\n",
    "                        units = -1 * self.broker.portfolio[asset_name].units\n",
    "                        )\n",
    "                    )\n",
    "                    del self.holding_times[asset_name]\n",
    "                except:\n",
    "                    pass\n",
    "        return orders\n",
    "\n",
    "    def next(self):\n",
    "        predicted_returns = {d : exchange.market_view[d][\"Next Return\"] for d in list(exchange.market_view.keys())[1:]}\n",
    "        predicted_returns = {k: v for k, v in sorted(predicted_returns.items(), key=lambda item: item[1], reverse = True)}\n",
    "        avg_predicted_returns = sum(predicted_returns.values())/len(predicted_returns.keys())\n",
    "        \n",
    "        if avg_predicted_returns < 0: return self.check_sale(close_all=True)\n",
    "\n",
    "        preds = list(predicted_returns.keys())\n",
    "        holdings = list(self.holding_times.keys())\n",
    "\n",
    "        for asset_buy in preds:\n",
    "            if asset_buy not in holdings:\n",
    "                break\n",
    "        new_order = MarketOrder(\n",
    "            order_create_time = self.exchange.market_time,\n",
    "            asset_name = asset_buy,\n",
    "            units = self.position_size / (self.exchange.market_view[asset_buy][\"CLOSE\"])\n",
    "        )\n",
    "        self.holding_times[asset_buy] = 0\n",
    "        orders = [new_order]\n",
    "        orders += self.check_sale()\n",
    "        assert(len(orders) > 0)\n",
    "        return orders\n",
    "\n",
    "strategy = AgisStrategy(\n",
    "            exchange=exchange,\n",
    "            broker=broker\n",
    "        )\n",
    "\n",
    "fast_test.register_strategy(strategy)\n",
    "fast_test.run()"
   ]
  },
  {
   "cell_type": "markdown",
   "metadata": {},
   "source": []
  },
  {
   "cell_type": "code",
   "execution_count": null,
   "metadata": {},
   "outputs": [
    {
     "data": {
      "text/html": [
       "<div>\n",
       "<style scoped>\n",
       "    .dataframe tbody tr th:only-of-type {\n",
       "        vertical-align: middle;\n",
       "    }\n",
       "\n",
       "    .dataframe tbody tr th {\n",
       "        vertical-align: top;\n",
       "    }\n",
       "\n",
       "    .dataframe thead th {\n",
       "        text-align: right;\n",
       "    }\n",
       "</style>\n",
       "<table border=\"1\" class=\"dataframe\">\n",
       "  <thead>\n",
       "    <tr style=\"text-align: right;\">\n",
       "      <th></th>\n",
       "      <th>net_liquidation_value</th>\n",
       "    </tr>\n",
       "  </thead>\n",
       "  <tbody>\n",
       "    <tr>\n",
       "      <th>2021-10-04</th>\n",
       "      <td>100000.000000</td>\n",
       "    </tr>\n",
       "    <tr>\n",
       "      <th>2021-10-05</th>\n",
       "      <td>100039.555676</td>\n",
       "    </tr>\n",
       "    <tr>\n",
       "      <th>2021-10-06</th>\n",
       "      <td>99973.285831</td>\n",
       "    </tr>\n",
       "    <tr>\n",
       "      <th>2021-10-07</th>\n",
       "      <td>100269.798068</td>\n",
       "    </tr>\n",
       "    <tr>\n",
       "      <th>2021-10-08</th>\n",
       "      <td>100587.633640</td>\n",
       "    </tr>\n",
       "    <tr>\n",
       "      <th>...</th>\n",
       "      <td>...</td>\n",
       "    </tr>\n",
       "    <tr>\n",
       "      <th>2022-11-25</th>\n",
       "      <td>121491.812784</td>\n",
       "    </tr>\n",
       "    <tr>\n",
       "      <th>2022-11-28</th>\n",
       "      <td>120590.891926</td>\n",
       "    </tr>\n",
       "    <tr>\n",
       "      <th>2022-11-29</th>\n",
       "      <td>120637.842788</td>\n",
       "    </tr>\n",
       "    <tr>\n",
       "      <th>2022-11-30</th>\n",
       "      <td>124368.922432</td>\n",
       "    </tr>\n",
       "    <tr>\n",
       "      <th>2022-12-01</th>\n",
       "      <td>124260.924847</td>\n",
       "    </tr>\n",
       "  </tbody>\n",
       "</table>\n",
       "<p>288 rows × 1 columns</p>\n",
       "</div>"
      ],
      "text/plain": [
       "            net_liquidation_value\n",
       "2021-10-04          100000.000000\n",
       "2021-10-05          100039.555676\n",
       "2021-10-06           99973.285831\n",
       "2021-10-07          100269.798068\n",
       "2021-10-08          100587.633640\n",
       "...                           ...\n",
       "2022-11-25          121491.812784\n",
       "2022-11-28          120590.891926\n",
       "2022-11-29          120637.842788\n",
       "2022-11-30          124368.922432\n",
       "2022-12-01          124260.924847\n",
       "\n",
       "[288 rows x 1 columns]"
      ]
     },
     "execution_count": 28,
     "metadata": {},
     "output_type": "execute_result"
    }
   ],
   "source": [
    "strategy_analysis = broker.strategy_analysis\n",
    "position_history = broker.position_history\n",
    "portfolio_value_history = fast_test.portfolio_value_history\n",
    "\n",
    "df_test = portfolio_value_history\n",
    "df_test"
   ]
  },
  {
   "cell_type": "code",
   "execution_count": null,
   "metadata": {},
   "outputs": [
    {
     "data": {
      "text/plain": [
       "<matplotlib.legend.Legend at 0x15dca621be0>"
      ]
     },
     "execution_count": 29,
     "metadata": {},
     "output_type": "execute_result"
    },
    {
     "data": {
      "image/png": "[encoded data removed]",
      "text/plain": [
       "<Figure size 1000x900 with 1 Axes>"
      ]
     },
     "metadata": {},
     "output_type": "display_data"
    }
   ],
   "source": [
    "fig = plt.figure(figsize=(10,9))\n",
    "\n",
    "ax1 = fig.add_subplot(211)\n",
    "\n",
    "ax1.plot(df_test[\"net_liquidation_value\"], label = \"NLV\")\n",
    "\n",
    "ax1.legend()"
   ]
  },
  {
   "cell_type": "code",
   "execution_count": null,
   "metadata": {},
   "outputs": [],
   "source": []
  }
 ],
 "metadata": {
  "kernelspec": {
   "display_name": "Python 3.8.10 64-bit (microsoft store)",
   "language": "python",
   "name": "python3"
  },
  "language_info": {
   "codemirror_mode": {
    "name": "ipython",
    "version": 3
   },
   "file_extension": ".py",
   "mimetype": "text/x-python",
   "name": "python",
   "nbconvert_exporter": "python",
   "pygments_lexer": "ipython3",
   "version": "3.8.10"
  },
  "orig_nbformat": 4,
  "vscode": {
   "interpreter": {
    "hash": "39046705c46d7972e557ae2a62e9aa50e09136d5200fe6039e6e9495c05d0e5b"
   }
  }
 },
 "nbformat": 4,
 "nbformat_minor": 2
}
