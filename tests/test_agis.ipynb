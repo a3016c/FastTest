{
 "cells": [
  {
   "cell_type": "code",
   "execution_count": 1,
   "metadata": {},
   "outputs": [],
   "source": [
    "%load_ext autoreload\n",
    "%autoreload 2\n",
    "\n",
    "import pandas as pd\n",
    "import numpy as np\n",
    "from datetime import datetime \n",
    "import zipfile\n",
    "import matplotlib.pyplot as plt\n",
    "import seaborn as sns\n",
    "\n",
    "sns.set()\n",
    "\n",
    "import sys\n",
    "import io\n",
    "sys.path.insert(1, \"../src\")\n",
    "\n",
    "from FastTest import FastTest\n",
    "from Exchange import Exchange\n",
    "from Broker import Broker\n",
    "from Strategy import *\n",
    "from Asset import Asset\n",
    "from Order import *"
   ]
  },
  {
   "cell_type": "code",
   "execution_count": 2,
   "metadata": {},
   "outputs": [],
   "source": [
    "z = zipfile.ZipFile(r\"C:\\Users\\bktor\\Downloads\\preds_test.zip\")\n",
    "_file_names = z.namelist()\n",
    "asset_names = [_file[0:-4] for _file in _file_names]"
   ]
  },
  {
   "cell_type": "code",
   "execution_count": 12,
   "metadata": {},
   "outputs": [],
   "source": [
    "exchange = Exchange()\n",
    "broker = Broker(exchange=exchange)\n",
    "\n",
    "source_type = \"zip\"\n",
    "datetime_format = \"%Y-%m-%d\"\n",
    "datetime_column = \"DATE\"\n",
    "\n",
    "for index, _file in enumerate(_file_names):\n",
    "    f = z.open(_file)\n",
    "    exchange.register_asset(Asset(\n",
    "                asset_names[index],\n",
    "                source_type = source_type,\n",
    "                fp = f,\n",
    "                datetime_format = datetime_format,\n",
    "                datetime_column = datetime_column,\n",
    "                frequency = \"1D\",\n",
    "                start_date = \"2021-10-01\",\n",
    "                #end_date = \"2022-02-01\"\n",
    "            )\n",
    "        )\n",
    "\n",
    "fast_test = FastTest(\n",
    "    exchange=exchange,\n",
    "    broker=broker\n",
    ")\n",
    "\n",
    "class AgisStrategy(Strategy):\n",
    "    def __init__(self, exchange: Exchange, broker: Broker) -> None:\n",
    "        super().__init__(exchange, broker)\n",
    "        self.holding_times = {}\n",
    "        self.lookahead = 20\n",
    "        self.position_size = 2000\n",
    "\n",
    "    def check_sale(self, close_all = False):\n",
    "        orders = []\n",
    "        for asset_name in list(self.holding_times.keys()):\n",
    "            self.holding_times[asset_name] += 1\n",
    "            if self.holding_times[asset_name] == self.lookahead or close_all:\n",
    "                try:\n",
    "                    orders.append(\n",
    "                        MarketOrder(\n",
    "                        order_create_time = self.exchange.market_time,\n",
    "                        asset_name = asset_name,\n",
    "                        units = -1 * self.broker.portfolio[asset_name].units\n",
    "                        )\n",
    "                    )\n",
    "                    del self.holding_times[asset_name]\n",
    "                except:\n",
    "                    pass\n",
    "        return orders\n",
    "\n",
    "    def next(self):\n",
    "        predicted_returns = {d : exchange.market_view[d][\"Next Return\"] for d in list(exchange.market_view.keys())[1:] if d != \"SPY\"}\n",
    "        predicted_returns = {k: v for k, v in sorted(predicted_returns.items(), key=lambda item: item[1], reverse = True)}\n",
    "        if len(predicted_returns) == 0: return []\n",
    "        avg_predicted_returns = sum(predicted_returns.values())/len(predicted_returns.keys())\n",
    "        \n",
    "        #if avg_predicted_returns < 0: return self.check_sale(close_all=True)\n",
    "\n",
    "        preds = list(predicted_returns.keys())\n",
    "        holdings = list(self.holding_times.keys())\n",
    "\n",
    "        for asset_buy in preds:\n",
    "            if asset_buy not in holdings:\n",
    "                break\n",
    "        for asset_sell in preds[::-1]:\n",
    "            if asset_sell not in holdings:\n",
    "                break\n",
    "\n",
    "        new_order_buy = MarketOrder(\n",
    "            order_create_time = self.exchange.market_time,\n",
    "            asset_name = asset_buy,\n",
    "            units = self.position_size / (self.exchange.market_view[asset_buy][\"CLOSE\"])\n",
    "        )\n",
    "        new_order_sell = MarketOrder(\n",
    "            order_create_time = self.exchange.market_time,\n",
    "            asset_name = asset_sell,\n",
    "            units = -1 * (self.position_size / (self.exchange.market_view[asset_sell][\"CLOSE\"]))\n",
    "        )\n",
    "        self.holding_times[asset_buy] = 0\n",
    "        self.holding_times[asset_sell] = 0\n",
    "        orders = [new_order_buy, new_order_sell]\n",
    "        orders += self.check_sale()\n",
    "        assert(len(orders) > 0)\n",
    "        return orders\n",
    "\n",
    "strategy = AgisStrategy(\n",
    "            exchange=exchange,\n",
    "            broker=broker\n",
    "        )\n",
    "benchmark = BenchMarkBH(\n",
    "            exchange=exchange,\n",
    "            asset_name=\"SPY\"\n",
    "        )\n",
    "\n",
    "fast_test.register_strategy(strategy)\n",
    "fast_test.register_benchmark(strategy = benchmark)\n",
    "fast_test.run()"
   ]
  },
  {
   "cell_type": "markdown",
   "metadata": {},
   "source": []
  },
  {
   "cell_type": "code",
   "execution_count": 21,
   "metadata": {},
   "outputs": [
    {
     "data": {
      "text/html": [
       "<div>\n",
       "<style scoped>\n",
       "    .dataframe tbody tr th:only-of-type {\n",
       "        vertical-align: middle;\n",
       "    }\n",
       "\n",
       "    .dataframe tbody tr th {\n",
       "        vertical-align: top;\n",
       "    }\n",
       "\n",
       "    .dataframe thead th {\n",
       "        text-align: right;\n",
       "    }\n",
       "</style>\n",
       "<table border=\"1\" class=\"dataframe\">\n",
       "  <thead>\n",
       "    <tr style=\"text-align: right;\">\n",
       "      <th></th>\n",
       "      <th>net_liquidation_value</th>\n",
       "      <th>cash</th>\n",
       "      <th>benchmark</th>\n",
       "      <th>change</th>\n",
       "    </tr>\n",
       "  </thead>\n",
       "  <tbody>\n",
       "    <tr>\n",
       "      <th>2022-05-13</th>\n",
       "      <td>123096.302536</td>\n",
       "      <td>85184.874236</td>\n",
       "      <td>92511.056157</td>\n",
       "      <td>-2085.932880</td>\n",
       "    </tr>\n",
       "    <tr>\n",
       "      <th>2022-07-27</th>\n",
       "      <td>121553.005155</td>\n",
       "      <td>83075.397131</td>\n",
       "      <td>92354.462409</td>\n",
       "      <td>-1979.206775</td>\n",
       "    </tr>\n",
       "    <tr>\n",
       "      <th>2022-06-02</th>\n",
       "      <td>119844.105416</td>\n",
       "      <td>82617.790686</td>\n",
       "      <td>96119.662867</td>\n",
       "      <td>-1801.802073</td>\n",
       "    </tr>\n",
       "    <tr>\n",
       "      <th>2022-05-26</th>\n",
       "      <td>122558.808246</td>\n",
       "      <td>84846.699168</td>\n",
       "      <td>93337.787093</td>\n",
       "      <td>-1736.892252</td>\n",
       "    </tr>\n",
       "    <tr>\n",
       "      <th>2022-05-17</th>\n",
       "      <td>122910.478917</td>\n",
       "      <td>84453.753746</td>\n",
       "      <td>94030.954428</td>\n",
       "      <td>-1442.344655</td>\n",
       "    </tr>\n",
       "    <tr>\n",
       "      <th>...</th>\n",
       "      <td>...</td>\n",
       "      <td>...</td>\n",
       "      <td>...</td>\n",
       "      <td>...</td>\n",
       "    </tr>\n",
       "    <tr>\n",
       "      <th>2022-05-09</th>\n",
       "      <td>124569.848109</td>\n",
       "      <td>87060.805494</td>\n",
       "      <td>91693.538684</td>\n",
       "      <td>2236.802778</td>\n",
       "    </tr>\n",
       "    <tr>\n",
       "      <th>2022-05-24</th>\n",
       "      <td>125581.342766</td>\n",
       "      <td>87822.748219</td>\n",
       "      <td>90707.908877</td>\n",
       "      <td>2842.264394</td>\n",
       "    </tr>\n",
       "    <tr>\n",
       "      <th>2021-12-01</th>\n",
       "      <td>106920.860301</td>\n",
       "      <td>67591.703613</td>\n",
       "      <td>103744.475436</td>\n",
       "      <td>3353.425252</td>\n",
       "    </tr>\n",
       "    <tr>\n",
       "      <th>2021-11-30</th>\n",
       "      <td>103567.435049</td>\n",
       "      <td>64886.395756</td>\n",
       "      <td>104909.729137</td>\n",
       "      <td>3810.434150</td>\n",
       "    </tr>\n",
       "    <tr>\n",
       "      <th>2021-10-01</th>\n",
       "      <td>100000.000000</td>\n",
       "      <td>100000.000000</td>\n",
       "      <td>100000.000000</td>\n",
       "      <td>NaN</td>\n",
       "    </tr>\n",
       "  </tbody>\n",
       "</table>\n",
       "<p>297 rows × 4 columns</p>\n",
       "</div>"
      ],
      "text/plain": [
       "            net_liquidation_value           cash      benchmark       change\n",
       "2022-05-13          123096.302536   85184.874236   92511.056157 -2085.932880\n",
       "2022-07-27          121553.005155   83075.397131   92354.462409 -1979.206775\n",
       "2022-06-02          119844.105416   82617.790686   96119.662867 -1801.802073\n",
       "2022-05-26          122558.808246   84846.699168   93337.787093 -1736.892252\n",
       "2022-05-17          122910.478917   84453.753746   94030.954428 -1442.344655\n",
       "...                           ...            ...            ...          ...\n",
       "2022-05-09          124569.848109   87060.805494   91693.538684  2236.802778\n",
       "2022-05-24          125581.342766   87822.748219   90707.908877  2842.264394\n",
       "2021-12-01          106920.860301   67591.703613  103744.475436  3353.425252\n",
       "2021-11-30          103567.435049   64886.395756  104909.729137  3810.434150\n",
       "2021-10-01          100000.000000  100000.000000  100000.000000          NaN\n",
       "\n",
       "[297 rows x 4 columns]"
      ]
     },
     "execution_count": 21,
     "metadata": {},
     "output_type": "execute_result"
    }
   ],
   "source": [
    "strategy_analysis = broker.strategy_analysis\n",
    "position_history = broker.position_history\n",
    "portfolio_value_history = fast_test.portfolio_history\n",
    "\n",
    "df_test = portfolio_value_history\n",
    "df_test"
   ]
  },
  {
   "cell_type": "code",
   "execution_count": 14,
   "metadata": {},
   "outputs": [
    {
     "data": {
      "text/plain": [
       "<matplotlib.legend.Legend at 0x1e25480c3a0>"
      ]
     },
     "execution_count": 14,
     "metadata": {},
     "output_type": "execute_result"
    },
    {
     "data": {
      "image/png": "[encoded data removed]",
      "text/plain": [
       "<Figure size 1000x900 with 1 Axes>"
      ]
     },
     "metadata": {},
     "output_type": "display_data"
    }
   ],
   "source": [
    "fig = plt.figure(figsize=(10,9))\n",
    "\n",
    "ax1 = fig.add_subplot(211)\n",
    "\n",
    "ax1.plot(df_test[\"net_liquidation_value\"], label = \"NLV\")\n",
    "ax1.plot(df_test[\"benchmark\"], label = \"SPY\")\n",
    "\n",
    "ax1.legend()"
   ]
  },
  {
   "cell_type": "code",
   "execution_count": 28,
   "metadata": {},
   "outputs": [
    {
     "data": {
      "text/plain": [
       "12847.104429948467"
      ]
     },
     "execution_count": 28,
     "metadata": {},
     "output_type": "execute_result"
    }
   ],
   "source": [
    "fast_test.position_history_df[\"realized_pl\"].sum()"
   ]
  },
  {
   "cell_type": "code",
   "execution_count": 17,
   "metadata": {},
   "outputs": [
    {
     "data": {
      "text/plain": [
       "20908.792679189995"
      ]
     },
     "execution_count": 17,
     "metadata": {},
     "output_type": "execute_result"
    }
   ],
   "source": [
    "df_test[\"net_liquidation_value\"][-1] - df_test[\"net_liquidation_value\"][0]"
   ]
  },
  {
   "cell_type": "code",
   "execution_count": null,
   "metadata": {},
   "outputs": [],
   "source": []
  }
 ],
 "metadata": {
  "kernelspec": {
   "display_name": "Python 3.8.10 64-bit (microsoft store)",
   "language": "python",
   "name": "python3"
  },
  "language_info": {
   "codemirror_mode": {
    "name": "ipython",
    "version": 3
   },
   "file_extension": ".py",
   "mimetype": "text/x-python",
   "name": "python",
   "nbconvert_exporter": "python",
   "pygments_lexer": "ipython3",
   "version": "3.8.10"
  },
  "orig_nbformat": 4,
  "vscode": {
   "interpreter": {
    "hash": "39046705c46d7972e557ae2a62e9aa50e09136d5200fe6039e6e9495c05d0e5b"
   }
  }
 },
 "nbformat": 4,
 "nbformat_minor": 2
}
